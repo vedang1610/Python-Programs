{
  "nbformat": 4,
  "nbformat_minor": 0,
  "metadata": {
    "colab": {
      "provenance": []
    },
    "kernelspec": {
      "name": "python3",
      "display_name": "Python 3"
    },
    "language_info": {
      "name": "python"
    }
  },
  "cells": [
    {
      "cell_type": "markdown",
      "source": [
        "# List comprehension"
      ],
      "metadata": {
        "id": "hInBWNKveQZw"
      }
    },
    {
      "cell_type": "code",
      "source": [
        "series=[]\n",
        "for i in range(1,11):\n",
        " series.append(i*i)\n",
        "series"
      ],
      "metadata": {
        "colab": {
          "base_uri": "https://localhost:8080/"
        },
        "id": "YxJBvfwOeWRN",
        "outputId": "5ff3ec63-db1d-4f79-9134-4395aa8d9179"
      },
      "execution_count": 56,
      "outputs": [
        {
          "output_type": "execute_result",
          "data": {
            "text/plain": [
              "[1, 4, 9, 16, 25, 36, 49, 64, 81, 100]"
            ]
          },
          "metadata": {},
          "execution_count": 56
        }
      ]
    },
    {
      "cell_type": "code",
      "source": [
        "series=[i*i for i in range(1,11)]\n",
        "series"
      ],
      "metadata": {
        "colab": {
          "base_uri": "https://localhost:8080/"
        },
        "id": "4-oisiRgeZct",
        "outputId": "9a792568-412f-45da-dcf4-536eec3cd46c"
      },
      "execution_count": 57,
      "outputs": [
        {
          "output_type": "execute_result",
          "data": {
            "text/plain": [
              "[1, 4, 9, 16, 25, 36, 49, 64, 81, 100]"
            ]
          },
          "metadata": {},
          "execution_count": 57
        }
      ]
    },
    {
      "cell_type": "code",
      "source": [
        "numbers=[1,3,6,7,9]\n",
        "for elements in numbers:\n",
        "  print(elements*2)"
      ],
      "metadata": {
        "colab": {
          "base_uri": "https://localhost:8080/"
        },
        "id": "L0IKKPnxe7Pw",
        "outputId": "645e30e4-5ae6-4021-ccca-f6d34ab8af2f"
      },
      "execution_count": 58,
      "outputs": [
        {
          "output_type": "stream",
          "name": "stdout",
          "text": [
            "2\n",
            "6\n",
            "12\n",
            "14\n",
            "18\n"
          ]
        }
      ]
    },
    {
      "cell_type": "code",
      "source": [
        "### list number \n",
        "### double"
      ],
      "metadata": {
        "id": "gIMDQ_UBgLfF"
      },
      "execution_count": 59,
      "outputs": []
    },
    {
      "cell_type": "code",
      "source": [
        "result=[elements*2 for elements in numbers]"
      ],
      "metadata": {
        "id": "xWbMC1Leffhl"
      },
      "execution_count": 60,
      "outputs": []
    },
    {
      "cell_type": "code",
      "source": [
        "result"
      ],
      "metadata": {
        "colab": {
          "base_uri": "https://localhost:8080/"
        },
        "id": "xVOWw3rBfps1",
        "outputId": "f5086913-48a2-4eba-8b00-6c3bcd5d61e3"
      },
      "execution_count": 61,
      "outputs": [
        {
          "output_type": "execute_result",
          "data": {
            "text/plain": [
              "[2, 6, 12, 14, 18]"
            ]
          },
          "metadata": {},
          "execution_count": 61
        }
      ]
    },
    {
      "cell_type": "code",
      "source": [
        "text=\"I am Vedang.I have 5 years of experience in Analytics.My salary is 10\""
      ],
      "metadata": {
        "id": "a1aNKwccgNn0"
      },
      "execution_count": 67,
      "outputs": []
    },
    {
      "cell_type": "code",
      "source": [
        "numbers=[float(i) for i in text.split() if i.isdigit()==True]"
      ],
      "metadata": {
        "id": "mmfcfC3PggrA"
      },
      "execution_count": 68,
      "outputs": []
    },
    {
      "cell_type": "code",
      "source": [
        "numbers"
      ],
      "metadata": {
        "colab": {
          "base_uri": "https://localhost:8080/"
        },
        "id": "YbSLdKipgyPr",
        "outputId": "2ab8a16f-ce5a-446b-8e3b-f11b408be371"
      },
      "execution_count": 69,
      "outputs": [
        {
          "output_type": "execute_result",
          "data": {
            "text/plain": [
              "[5.0, 10.0]"
            ]
          },
          "metadata": {},
          "execution_count": 69
        }
      ]
    },
    {
      "cell_type": "code",
      "source": [
        "products=[\"Apparels\",\"crockeeries\",\"cosmetics\",\"beverages\",\"detergents\"]\n",
        "discount=[10 if p==\"Apparels\" else 15 if p==\"crockeeries\" else 20 for p in products]"
      ],
      "metadata": {
        "id": "nb1BZzpYhhPY"
      },
      "execution_count": 73,
      "outputs": []
    },
    {
      "cell_type": "code",
      "source": [
        "discount"
      ],
      "metadata": {
        "colab": {
          "base_uri": "https://localhost:8080/"
        },
        "id": "XqESHMKii4rY",
        "outputId": "1f91c9c4-813b-41e7-e2b8-f3097c0bff47"
      },
      "execution_count": 74,
      "outputs": [
        {
          "output_type": "execute_result",
          "data": {
            "text/plain": [
              "[10, 15, 20, 20, 20]"
            ]
          },
          "metadata": {},
          "execution_count": 74
        }
      ]
    },
    {
      "cell_type": "markdown",
      "source": [
        "**Functions**\n"
      ],
      "metadata": {
        "id": "oFTZa7zLjPyL"
      }
    },
    {
      "cell_type": "markdown",
      "source": [
        "#### **inbuilt**\n",
        "#### **user** **defined**\n",
        "#### **lambda**\n",
        "print() input() max() **bold text**"
      ],
      "metadata": {
        "id": "HZ_u-zuZj-OJ"
      }
    },
    {
      "cell_type": "code",
      "source": [
        "### user defined function\n",
        "def area_of_triangle(base,height):\n",
        "  return(0.5*base*height)"
      ],
      "metadata": {
        "id": "5WEYGU_fjvYs"
      },
      "execution_count": 77,
      "outputs": []
    },
    {
      "cell_type": "code",
      "source": [
        "area_of_triangle(4,5)"
      ],
      "metadata": {
        "colab": {
          "base_uri": "https://localhost:8080/"
        },
        "id": "vMYsEyWjkYJm",
        "outputId": "679d97f4-a2a3-4729-ca06-b5705c32b43e"
      },
      "execution_count": 78,
      "outputs": [
        {
          "output_type": "execute_result",
          "data": {
            "text/plain": [
              "10.0"
            ]
          },
          "metadata": {},
          "execution_count": 78
        }
      ]
    },
    {
      "cell_type": "code",
      "source": [
        "def area_of_rectangle(length,breadth):\n",
        "  return(length*breadth)"
      ],
      "metadata": {
        "id": "00Nkn_SLkpcF"
      },
      "execution_count": 88,
      "outputs": []
    },
    {
      "cell_type": "code",
      "source": [
        "area_of_rectangle(10,20)"
      ],
      "metadata": {
        "colab": {
          "base_uri": "https://localhost:8080/"
        },
        "id": "yKQMA5cyk6yQ",
        "outputId": "01e23e8f-b2fa-462b-c57c-10eb5b0cd524"
      },
      "execution_count": 90,
      "outputs": [
        {
          "output_type": "execute_result",
          "data": {
            "text/plain": [
              "200"
            ]
          },
          "metadata": {},
          "execution_count": 90
        }
      ]
    },
    {
      "cell_type": "code",
      "source": [
        "### addition of two numbers\n",
        "def addition(num1,num2):\n",
        "  sum=num1+num2\n",
        "  return(sum)\n",
        "  summation=addition(10,20,4)\n",
        "  summation"
      ],
      "metadata": {
        "id": "-0NXsVZYl4WX"
      },
      "execution_count": 97,
      "outputs": []
    },
    {
      "cell_type": "markdown",
      "source": [
        "### Lambda function \n",
        "### Lambda arguments:expression"
      ],
      "metadata": {
        "id": "JF5N95N1myXZ"
      }
    },
    {
      "cell_type": "code",
      "source": [
        "def greater(num1,num2):\n",
        "  if(num1>num2):\n",
        "   return num1\n",
        "  else:\n",
        "    return num2"
      ],
      "metadata": {
        "id": "gzHnT4DommTl"
      },
      "execution_count": 99,
      "outputs": []
    },
    {
      "cell_type": "code",
      "source": [
        "great=greater(5,10)\n",
        "great"
      ],
      "metadata": {
        "colab": {
          "base_uri": "https://localhost:8080/"
        },
        "id": "NEdxGFOUnTgl",
        "outputId": "ed77d882-a1db-4439-84f3-18faca433cb9"
      },
      "execution_count": 100,
      "outputs": [
        {
          "output_type": "execute_result",
          "data": {
            "text/plain": [
              "10"
            ]
          },
          "metadata": {},
          "execution_count": 100
        }
      ]
    },
    {
      "cell_type": "code",
      "source": [
        "greater=lambda num1,num2:num1 if num1>num2 else num2\n",
        "greater(8,15)"
      ],
      "metadata": {
        "colab": {
          "base_uri": "https://localhost:8080/"
        },
        "id": "UX7X7Z5boAO9",
        "outputId": "128b40cb-0829-4bac-c890-2d815caa55b0"
      },
      "execution_count": 102,
      "outputs": [
        {
          "output_type": "execute_result",
          "data": {
            "text/plain": [
              "15"
            ]
          },
          "metadata": {},
          "execution_count": 102
        }
      ]
    },
    {
      "cell_type": "code",
      "source": [
        "num_list=list(range(1,11))\n",
        "sq_list=list(map(lambda x:x**2,num_list))"
      ],
      "metadata": {
        "id": "gGwYxhvinLVW"
      },
      "execution_count": 104,
      "outputs": []
    },
    {
      "cell_type": "code",
      "source": [
        "sq_list"
      ],
      "metadata": {
        "colab": {
          "base_uri": "https://localhost:8080/"
        },
        "id": "q8VJk2ZzowHu",
        "outputId": "7ed4d4c4-5510-4752-882e-9a2440d92f74"
      },
      "execution_count": 105,
      "outputs": [
        {
          "output_type": "execute_result",
          "data": {
            "text/plain": [
              "[1, 4, 9, 16, 25, 36, 49, 64, 81, 100]"
            ]
          },
          "metadata": {},
          "execution_count": 105
        }
      ]
    },
    {
      "cell_type": "code",
      "source": [
        "num_list=list(range(1,11))\n",
        "sq_list=list(filter(lambda x:x%5==0,num_list))"
      ],
      "metadata": {
        "id": "_fIkgILeoyXx"
      },
      "execution_count": 106,
      "outputs": []
    },
    {
      "cell_type": "code",
      "source": [
        "sq_list"
      ],
      "metadata": {
        "colab": {
          "base_uri": "https://localhost:8080/"
        },
        "id": "gxE69PwxpCYp",
        "outputId": "fb2fd718-9960-4b3a-abe4-d67b20b2f60e"
      },
      "execution_count": 107,
      "outputs": [
        {
          "output_type": "execute_result",
          "data": {
            "text/plain": [
              "[5, 10]"
            ]
          },
          "metadata": {},
          "execution_count": 107
        }
      ]
    },
    {
      "cell_type": "code",
      "source": [
        "from functools import reduce\n",
        "num_list=[1,2,3,4,5]\n",
        "reduce(lambda a,b: a*b,num_list)"
      ],
      "metadata": {
        "colab": {
          "base_uri": "https://localhost:8080/"
        },
        "id": "7YAN4DcHpDyu",
        "outputId": "040214f5-acba-4268-82d4-a353fb6f0b99"
      },
      "execution_count": 108,
      "outputs": [
        {
          "output_type": "execute_result",
          "data": {
            "text/plain": [
              "120"
            ]
          },
          "metadata": {},
          "execution_count": 108
        }
      ]
    },
    {
      "cell_type": "code",
      "source": [],
      "metadata": {
        "id": "RxTgJa19pVWG"
      },
      "execution_count": null,
      "outputs": []
    }
  ]
}